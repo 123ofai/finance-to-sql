{
 "cells": [
  {
   "cell_type": "code",
   "execution_count": 37,
   "id": "eb0e58d0",
   "metadata": {},
   "outputs": [],
   "source": [
    "import pandas as pd\n",
    "from sentence_transformers import SentenceTransformer, util\n",
    "import torch\n",
    "from sklearn.metrics import accuracy_score, f1_score, classification_report"
   ]
  },
  {
   "cell_type": "code",
   "execution_count": 38,
   "id": "4d7b9d85",
   "metadata": {},
   "outputs": [
    {
     "name": "stdout",
     "output_type": "stream",
     "text": [
      "Assets\n"
     ]
    }
   ],
   "source": [
    "# 2. Load the glossary\n",
    "glossary_df = pd.read_csv(\"../data/1b_glossary_descriptions.csv\")            # your glossary CSV\n",
    "\n",
    "# Method 1\n",
    "glossary_terms = glossary_df['Glossary']\n",
    "glossary_terms = glossary_terms.dropna().tolist()\n",
    "\n",
    "# Method 2\n",
    "glossary_full = glossary_df['Glossary'] + ': '+ glossary_df['Description']\n",
    "glossary_full = glossary_full.dropna().tolist()\n",
    "\n",
    "# Method 3\n",
    "glossary_desc = glossary_df['Description'].dropna().tolist()\n",
    "\n",
    "print(glossary_terms[0])"
   ]
  },
  {
   "cell_type": "code",
   "execution_count": 39,
   "id": "02d4e825",
   "metadata": {},
   "outputs": [],
   "source": [
    "# 3. Load your NL queries alongside their ground-truth glossary terms\n",
    "#    Input CSV must have columns: 'NL_Query' and 'GT_Glossary'\n",
    "queries_df = pd.read_csv(\"../data/1a_nl_to_glossary_gt.csv\")"
   ]
  },
  {
   "cell_type": "code",
   "execution_count": 78,
   "id": "94923cea",
   "metadata": {},
   "outputs": [
    {
     "name": "stderr",
     "output_type": "stream",
     "text": [
      "Xet Storage is enabled for this repo, but the 'hf_xet' package is not installed. Falling back to regular HTTP download. For better performance, install the package with: `pip install huggingface_hub[hf_xet]` or `pip install hf_xet`\n"
     ]
    }
   ],
   "source": [
    "# 4. Initialize the embedding model\n",
    "model = SentenceTransformer('mixedbread-ai/mxbai-embed-large-v1')"
   ]
  },
  {
   "cell_type": "code",
   "execution_count": null,
   "id": "3971a5b5",
   "metadata": {},
   "outputs": [],
   "source": [
    "\"\"\"\n",
    "from transformers import AutoTokenizer, AutoModel\n",
    "import torch\n",
    "import torch.nn.functional as F\n",
    "\n",
    "# Load FinBERT (pretrained on financial text)\n",
    "model_name = \"yiyanghkust/finbert-tone\"\n",
    "tokenizer = AutoTokenizer.from_pretrained(model_name)\n",
    "model = AutoModel.from_pretrained(model_name)\n",
    "\"\"\""
   ]
  },
  {
   "cell_type": "code",
   "execution_count": null,
   "id": "597a7873",
   "metadata": {},
   "outputs": [],
   "source": [
    "# Function to get CLS embedding\n",
    "\"\"\"\n",
    "def get_embedding(text):\n",
    "    inputs = tokenizer(text, return_tensors=\"pt\", truncation=True, padding=True)\n",
    "    with torch.no_grad():\n",
    "        outputs = model(**inputs)\n",
    "        cls_embedding = outputs.last_hidden_state[:, 0, :]  # [CLS] token\n",
    "        cls_embedding = F.normalize(cls_embedding, p=2, dim=1)  # normalize for cosine sim\n",
    "    return cls_embedding\n",
    "\"\"\""
   ]
  },
  {
   "cell_type": "code",
   "execution_count": 79,
   "id": "0596d837",
   "metadata": {},
   "outputs": [],
   "source": [
    "# 5. Pre-compute embeddings for all glossary terms\n",
    "term_embeddings = model.encode(glossary_full, convert_to_tensor=True, normalize_embeddings=True)"
   ]
  },
  {
   "cell_type": "code",
   "execution_count": null,
   "id": "e11bdc92",
   "metadata": {},
   "outputs": [
    {
     "name": "stderr",
     "output_type": "stream",
     "text": [
      "Asking to truncate to max_length but no maximum length is provided and the model has no predefined maximum length. Default to no truncation.\n"
     ]
    }
   ],
   "source": [
    "#term_embeddings = torch.cat([get_embedding(term) for term in glossary_full])"
   ]
  },
  {
   "cell_type": "code",
   "execution_count": 80,
   "id": "2514359b",
   "metadata": {},
   "outputs": [],
   "source": [
    "# 6. Iterate through each query and find the best matching glossary term\n",
    "results = []\n",
    "y_true = []\n",
    "y_pred = []\n",
    "for _, row in queries_df.iterrows():\n",
    "    query_text = row['NL_Query']\n",
    "    original = row['GT_Glossary']\n",
    "    \n",
    "    # Embed the query\n",
    "    q_emb = model.encode(query_text, convert_to_tensor=True, normalize_embeddings=True)\n",
    "    #q_emb = get_embedding(query_text)\n",
    "\n",
    "    # Compute cosine similarity to all glossary terms\n",
    "    #osine_sim = torch.matmul(q_emb, term_embeddings.T)[0]\n",
    "    #best_idx = torch.argmax(cosine_sim).item()\n",
    "    sims = util.cos_sim(q_emb, term_embeddings)\n",
    "    #print(sims)\n",
    "    \n",
    "    # Identify best match\n",
    "    best_idx = torch.argmax(sims).item()\n",
    "    predicted = glossary_terms[best_idx]\n",
    "    score = sims[0][best_idx].item()\n",
    "    #score = cosine_sim[best_idx].item()\n",
    "\n",
    "\n",
    "\n",
    "    y_true.append(original)\n",
    "    y_pred.append(predicted)\n",
    "    \n",
    "    results.append({\n",
    "        'NL_Query': query_text,\n",
    "        'GT_Glossary': original,\n",
    "        'Predicted_Glossary': predicted,\n",
    "        'Similarity_Score': round(score, 4)\n",
    "    })\n"
   ]
  },
  {
   "cell_type": "code",
   "execution_count": 81,
   "id": "6ca182fd",
   "metadata": {},
   "outputs": [
    {
     "data": {
      "text/html": [
       "<div>\n",
       "<style scoped>\n",
       "    .dataframe tbody tr th:only-of-type {\n",
       "        vertical-align: middle;\n",
       "    }\n",
       "\n",
       "    .dataframe tbody tr th {\n",
       "        vertical-align: top;\n",
       "    }\n",
       "\n",
       "    .dataframe thead th {\n",
       "        text-align: right;\n",
       "    }\n",
       "</style>\n",
       "<table border=\"1\" class=\"dataframe\">\n",
       "  <thead>\n",
       "    <tr style=\"text-align: right;\">\n",
       "      <th></th>\n",
       "      <th>NL_Query</th>\n",
       "      <th>GT_Glossary</th>\n",
       "      <th>Predicted_Glossary</th>\n",
       "      <th>Similarity_Score</th>\n",
       "    </tr>\n",
       "  </thead>\n",
       "  <tbody>\n",
       "    <tr>\n",
       "      <th>0</th>\n",
       "      <td>How much money did we bring in from sales this...</td>\n",
       "      <td>Revenue</td>\n",
       "      <td>Gross Profit</td>\n",
       "      <td>0.6091</td>\n",
       "    </tr>\n",
       "    <tr>\n",
       "      <th>1</th>\n",
       "      <td>What did it cost us to make the stuff we sold ...</td>\n",
       "      <td>Cost of Goods Sold (COGS)</td>\n",
       "      <td>Cost of Goods Sold (COGS)</td>\n",
       "      <td>0.6948</td>\n",
       "    </tr>\n",
       "    <tr>\n",
       "      <th>2</th>\n",
       "      <td>After paying for production, how much did we k...</td>\n",
       "      <td>Gross Profit</td>\n",
       "      <td>Inventories</td>\n",
       "      <td>0.5864</td>\n",
       "    </tr>\n",
       "    <tr>\n",
       "      <th>3</th>\n",
       "      <td>What are we spending to keep the business runn...</td>\n",
       "      <td>Operating Expenses</td>\n",
       "      <td>Operating Expenses</td>\n",
       "      <td>0.6463</td>\n",
       "    </tr>\n",
       "    <tr>\n",
       "      <th>4</th>\n",
       "      <td>How much did our main operations earn us in th...</td>\n",
       "      <td>Operating Profit (EBIT)</td>\n",
       "      <td>Operating Cash Flow</td>\n",
       "      <td>0.6616</td>\n",
       "    </tr>\n",
       "  </tbody>\n",
       "</table>\n",
       "</div>"
      ],
      "text/plain": [
       "                                            NL_Query  \\\n",
       "0  How much money did we bring in from sales this...   \n",
       "1  What did it cost us to make the stuff we sold ...   \n",
       "2  After paying for production, how much did we k...   \n",
       "3  What are we spending to keep the business runn...   \n",
       "4  How much did our main operations earn us in th...   \n",
       "\n",
       "                 GT_Glossary         Predicted_Glossary  Similarity_Score  \n",
       "0                    Revenue               Gross Profit            0.6091  \n",
       "1  Cost of Goods Sold (COGS)  Cost of Goods Sold (COGS)            0.6948  \n",
       "2               Gross Profit                Inventories            0.5864  \n",
       "3         Operating Expenses         Operating Expenses            0.6463  \n",
       "4    Operating Profit (EBIT)        Operating Cash Flow            0.6616  "
      ]
     },
     "execution_count": 81,
     "metadata": {},
     "output_type": "execute_result"
    }
   ],
   "source": [
    "# 7. Convert to DataFrame and save or inspect\n",
    "results_df = pd.DataFrame(results)\n",
    "results_df.head(5)"
   ]
  },
  {
   "cell_type": "code",
   "execution_count": 82,
   "id": "c9f943ff",
   "metadata": {},
   "outputs": [
    {
     "name": "stdout",
     "output_type": "stream",
     "text": [
      "Accuracy (labels): 0.3800\n",
      "Macro F1 (labels): 0.3192\n"
     ]
    }
   ],
   "source": [
    "# 8. Evaluate\n",
    "accuracy = accuracy_score(y_true, y_pred)\n",
    "f1_macro = f1_score(y_true, y_pred, average=\"macro\")\n",
    "\n",
    "print(f\"Accuracy (labels): {accuracy:.4f}\")\n",
    "print(f\"Macro F1 (labels): {f1_macro:.4f}\")\n",
    "#print(\"\\nClassification Report (labels):\\n\")\n",
    "#print(classification_report(y_true, y_pred, digits=4))"
   ]
  },
  {
   "cell_type": "code",
   "execution_count": null,
   "id": "08a1f5c1",
   "metadata": {},
   "outputs": [],
   "source": [
    "# Save the results to a CSV file\n",
    "results_df.to_csv('../results/24May_refactor/stage1_nl2glossary.csv', index=False)"
   ]
  }
 ],
 "metadata": {
  "kernelspec": {
   "display_name": "bsq",
   "language": "python",
   "name": "python3"
  },
  "language_info": {
   "codemirror_mode": {
    "name": "ipython",
    "version": 3
   },
   "file_extension": ".py",
   "mimetype": "text/x-python",
   "name": "python",
   "nbconvert_exporter": "python",
   "pygments_lexer": "ipython3",
   "version": "3.13.2"
  }
 },
 "nbformat": 4,
 "nbformat_minor": 5
}
