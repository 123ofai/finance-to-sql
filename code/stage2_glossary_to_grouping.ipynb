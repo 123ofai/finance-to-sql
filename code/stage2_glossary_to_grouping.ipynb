{
 "cells": [
  {
   "cell_type": "code",
   "execution_count": 42,
   "id": "26bfec98",
   "metadata": {},
   "outputs": [],
   "source": [
    "import pandas as pd\n",
    "from sentence_transformers import SentenceTransformer, util\n",
    "import torch\n",
    "from sklearn.metrics import accuracy_score, f1_score, classification_report\n",
    "from sentence_transformers import CrossEncoder"
   ]
  },
  {
   "cell_type": "code",
   "execution_count": 17,
   "id": "9daf043e",
   "metadata": {},
   "outputs": [],
   "source": [
    "# --- 1. Glossary to Grouping Label ---\n",
    "df = pd.read_csv(\"../data/2_glossary_to_label_gt.csv\")\n",
    "df_glossary_desc = pd.read_csv(\"../data/1b_glossary_descriptions.csv\")\n",
    "\n",
    "# --- 2. Load grouping_master to get all possible grouping_labels ---\n",
    "grouping_df = pd.read_csv(\"../data/fbi_grouping_master.csv\")\n",
    "all_labels = grouping_df[\"grouping_label\"].tolist()"
   ]
  },
  {
   "cell_type": "code",
   "execution_count": 18,
   "id": "d5e9fb57",
   "metadata": {},
   "outputs": [
    {
     "data": {
      "text/html": [
       "<div>\n",
       "<style scoped>\n",
       "    .dataframe tbody tr th:only-of-type {\n",
       "        vertical-align: middle;\n",
       "    }\n",
       "\n",
       "    .dataframe tbody tr th {\n",
       "        vertical-align: top;\n",
       "    }\n",
       "\n",
       "    .dataframe thead th {\n",
       "        text-align: right;\n",
       "    }\n",
       "</style>\n",
       "<table border=\"1\" class=\"dataframe\">\n",
       "  <thead>\n",
       "    <tr style=\"text-align: right;\">\n",
       "      <th></th>\n",
       "      <th>Glossary</th>\n",
       "      <th>ground_label</th>\n",
       "      <th>grouping_id</th>\n",
       "      <th>Description</th>\n",
       "    </tr>\n",
       "  </thead>\n",
       "  <tbody>\n",
       "    <tr>\n",
       "      <th>0</th>\n",
       "      <td>Assets</td>\n",
       "      <td>Total Assets</td>\n",
       "      <td>5300004</td>\n",
       "      <td>Resources owned by a company (e.g., cash, inve...</td>\n",
       "    </tr>\n",
       "    <tr>\n",
       "      <th>1</th>\n",
       "      <td>Liabilities</td>\n",
       "      <td>(Current liabilities) + (Non-current liablilit...</td>\n",
       "      <td>(5300177),(5300146)</td>\n",
       "      <td>Obligations or debts the company must pay (e.g...</td>\n",
       "    </tr>\n",
       "    <tr>\n",
       "      <th>2</th>\n",
       "      <td>Equity</td>\n",
       "      <td>Equity</td>\n",
       "      <td>5300007</td>\n",
       "      <td>Owners’ interest in the company (Assets - Liab...</td>\n",
       "    </tr>\n",
       "    <tr>\n",
       "      <th>3</th>\n",
       "      <td>Current Assets</td>\n",
       "      <td>Current assets</td>\n",
       "      <td>5300033</td>\n",
       "      <td>Assets expected to be used or converted to cas...</td>\n",
       "    </tr>\n",
       "    <tr>\n",
       "      <th>4</th>\n",
       "      <td>Non-Current Assets</td>\n",
       "      <td>Non-current assets</td>\n",
       "      <td>5300031</td>\n",
       "      <td>Long-term assets (e.g., property, plant, and e...</td>\n",
       "    </tr>\n",
       "  </tbody>\n",
       "</table>\n",
       "</div>"
      ],
      "text/plain": [
       "             Glossary                                       ground_label  \\\n",
       "0              Assets                                       Total Assets   \n",
       "1         Liabilities  (Current liabilities) + (Non-current liablilit...   \n",
       "2              Equity                                             Equity   \n",
       "3      Current Assets                                     Current assets   \n",
       "4  Non-Current Assets                                 Non-current assets   \n",
       "\n",
       "           grouping_id                                        Description  \n",
       "0              5300004  Resources owned by a company (e.g., cash, inve...  \n",
       "1  (5300177),(5300146)  Obligations or debts the company must pay (e.g...  \n",
       "2              5300007  Owners’ interest in the company (Assets - Liab...  \n",
       "3              5300033  Assets expected to be used or converted to cas...  \n",
       "4              5300031  Long-term assets (e.g., property, plant, and e...  "
      ]
     },
     "execution_count": 18,
     "metadata": {},
     "output_type": "execute_result"
    }
   ],
   "source": [
    "# Merge df with df_glossary_desc on the 'Glossary' column\n",
    "df_merged = df.merge(df_glossary_desc[['Glossary', 'Description']], on='Glossary', how='left')\n",
    "df_merged.head()"
   ]
  },
  {
   "cell_type": "code",
   "execution_count": 48,
   "id": "b5954aac",
   "metadata": {},
   "outputs": [],
   "source": [
    "# --- 3. Initialize embedding model ---\n",
    "model = SentenceTransformer('BAAI/bge-large-en-v1.5')"
   ]
  },
  {
   "cell_type": "code",
   "execution_count": 55,
   "id": "8f94a468",
   "metadata": {},
   "outputs": [],
   "source": [
    "#reranker = CrossEncoder(\"cross-encoder/ms-marco-MiniLM-L-6-v2\")\n",
    "reranker = CrossEncoder(\"../models/stage2_cross_encoder_finetuned\")"
   ]
  },
  {
   "cell_type": "code",
   "execution_count": 61,
   "id": "1b62d7f3",
   "metadata": {},
   "outputs": [],
   "source": [
    "# --- 4. Embed all grouping_labels once ---\n",
    "label_embs = model.encode(all_labels, convert_to_tensor=True)"
   ]
  },
  {
   "cell_type": "code",
   "execution_count": 62,
   "id": "56010385",
   "metadata": {},
   "outputs": [],
   "source": [
    "# --- 5. For each predicted glossary term, find best grouping_label ---\n",
    "predicted_labels = []\n",
    "\n",
    "for _, row in df_merged.iterrows():\n",
    "    # Add description to glossary item\n",
    "    glossary = row['Glossary']\n",
    "    #description = row['Description']\n",
    "    #query = glossary + ' can be defined as ' + description\n",
    "    query = glossary\n",
    "    #print(query)\n",
    "\n",
    "    # Embed and match\n",
    "    q_emb = model.encode(query, convert_to_tensor=True)\n",
    "    sims = util.cos_sim(q_emb, label_embs)[0]\n",
    "    #best_idx = torch.argmax(sims).item()\n",
    "    #predicted_labels.append(all_labels[best_idx])\n",
    "\n",
    "    # Reranker\n",
    "    top_k = 5\n",
    "    top_k_indices = torch.topk(sims, k=top_k).indices.tolist()\n",
    "    top_k_labels = [all_labels[i] for i in top_k_indices]\n",
    "\n",
    "    # Step 2: Rerank top-k candidates using cross-encoder\n",
    "    pairs = [(query, label) for label in top_k_labels]\n",
    "    rerank_scores = reranker.predict(pairs)\n",
    "\n",
    "    # Step 3: Pick best reranked label\n",
    "    best_rerank_idx = torch.tensor(rerank_scores).argmax().item()\n",
    "    predicted_label = top_k_labels[best_rerank_idx]\n",
    "\n",
    "    predicted_labels.append(predicted_label)\n",
    "\n",
    "\n",
    "df_merged[\"predicted_label\"] = predicted_labels\n",
    "\n",
    "df_merged[\"predicted_grouping_id\"] = [\n",
    "    grouping_df.loc[grouping_df[\"grouping_label\"] == label, \"grouping_id\"].iat[0]\n",
    "    if label in grouping_df[\"grouping_label\"].values else None\n",
    "    for label in df_merged[\"predicted_label\"]\n",
    "]"
   ]
  },
  {
   "cell_type": "code",
   "execution_count": 64,
   "id": "521523c9",
   "metadata": {},
   "outputs": [
    {
     "name": "stdout",
     "output_type": "stream",
     "text": [
      "Accuracy (labels): 0.3793\n",
      "Macro F1 (labels): 0.2370\n"
     ]
    }
   ],
   "source": [
    "# --- 6. Evaluate at label level ---\n",
    "y_true = df_merged[\"ground_label\"]\n",
    "y_pred = df_merged[\"predicted_label\"]\n",
    "\n",
    "accuracy = accuracy_score(y_true, y_pred)\n",
    "f1_macro = f1_score(y_true, y_pred, average=\"macro\")\n",
    "f1_micro = f1_score(y_true, y_pred, average=\"micro\")\n",
    "\n",
    "print(f\"Accuracy (labels): {accuracy:.4f}\")\n",
    "print(f\"Macro F1 (labels): {f1_macro:.4f}\")\n",
    "#print(f\"Micro F1 (labels): {f1_micro:.4f}\")\n",
    "#print(\"\\nClassification Report (labels):\\n\")\n",
    "#print(classification_report(y_true, y_pred, digits=4))"
   ]
  },
  {
   "cell_type": "code",
   "execution_count": 54,
   "id": "dfe28eb5",
   "metadata": {},
   "outputs": [
    {
     "name": "stdout",
     "output_type": "stream",
     "text": [
      "✅ Saved ../results/25May_1b/stage2_glossary_to_label.csv\n"
     ]
    }
   ],
   "source": [
    "# --- 7. Save enriched CSV ---\n",
    "path = \"../results/25May_1b/stage2_glossary_to_label.csv\"\n",
    "df_merged.to_csv(path, index=False)\n",
    "print(\"✅ Saved \" + path)"
   ]
  },
  {
   "cell_type": "code",
   "execution_count": null,
   "id": "eeb529d1",
   "metadata": {},
   "outputs": [],
   "source": []
  }
 ],
 "metadata": {
  "kernelspec": {
   "display_name": "bsq",
   "language": "python",
   "name": "python3"
  },
  "language_info": {
   "codemirror_mode": {
    "name": "ipython",
    "version": 3
   },
   "file_extension": ".py",
   "mimetype": "text/x-python",
   "name": "python",
   "nbconvert_exporter": "python",
   "pygments_lexer": "ipython3",
   "version": "3.13.2"
  }
 },
 "nbformat": 4,
 "nbformat_minor": 5
}
